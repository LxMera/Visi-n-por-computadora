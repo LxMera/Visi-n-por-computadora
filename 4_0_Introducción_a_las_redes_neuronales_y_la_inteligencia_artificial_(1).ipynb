{
  "nbformat": 4,
  "nbformat_minor": 0,
  "metadata": {
    "kernelspec": {
      "display_name": "Python 2",
      "language": "python",
      "name": "python2"
    },
    "language_info": {
      "codemirror_mode": {
        "name": "ipython",
        "version": 2
      },
      "file_extension": ".py",
      "mimetype": "text/x-python",
      "name": "python",
      "nbconvert_exporter": "python",
      "pygments_lexer": "ipython2",
      "version": "2.7.14"
    },
    "colab": {
      "name": "4_0_Introducción_a_las_redes_neuronales_y_la_inteligencia_artificial_(1).ipynb",
      "version": "0.3.2",
      "provenance": [],
      "collapsed_sections": [],
      "toc_visible": true,
      "include_colab_link": true
    }
  },
  "cells": [
    {
      "cell_type": "markdown",
      "metadata": {
        "id": "view-in-github",
        "colab_type": "text"
      },
      "source": [
        "<a href=\"https://colab.research.google.com/github/LxMera/Visi-n-por-computadora/blob/master/4_0_Introducci%C3%B3n_a_las_redes_neuronales_y_la_inteligencia_artificial_(1).ipynb\" target=\"_parent\"><img src=\"https://colab.research.google.com/assets/colab-badge.svg\" alt=\"Open In Colab\"/></a>"
      ]
    },
    {
      "cell_type": "markdown",
      "metadata": {
        "id": "NH4oLhFY9h4X",
        "colab_type": "text"
      },
      "source": [
        "# Introducción a las redes neuronales artificiales y la inteligencia artificial"
      ]
    },
    {
      "cell_type": "markdown",
      "metadata": {
        "id": "KW4XwrXT9h4Z",
        "colab_type": "text"
      },
      "source": [
        "La Inteligencia artificial es el campo científico de la informática que se centra en la creación de programas y mecanismos que pueden mostrar comportamientos considerados inteligentes. En otras palabras, la IA es el concepto según el cual “las máquinas piensan como seres humanos”.\n",
        "\n",
        "Normalmente, un sistema de IA es capaz de analizar datos en grandes cantidades (big data), identificar patrones y tendencias y, por lo tanto, formular predicciones de forma automática, con rapidez y precisión"
      ]
    },
    {
      "cell_type": "markdown",
      "metadata": {
        "id": "Qc-3cvEV9h4a",
        "colab_type": "text"
      },
      "source": [
        "**texto en negrita**![texto alternativo](https://previews.dropbox.com/p/thumb/AAgh0CoXi1zJB5gBTXeP0eAL6m-aYNwNv4druPKDBrawS9B0tM2a5lune6oSIrqD6TyKfdo40Xd08a-9M2YnGd_iPOkSHlZkrdLhYB9Sa3jMBwU3t1G6IlpxSlzjhla5hRPIysF0DcWvgDyoJ26__aTRnUyiMBnrf75k1K6hNKmfzUQ_DJKytganOZE1TpCL6lhKbcC7ca0M4fgYyBbjkVUfJRAPqyCj5nPBExdd2Lu9cwqm2b2adAQtzmswOr03p-Ieag7x_B5xb52PSxNdFFvDA5Kq-W5Yvp5IRst0dDPQgm7YmGAIBq5ERqdN81u3v2wCokyRA0rVyWmPRfAfcIdWSaAmpfIfk9jZDXi2ceeBXg/p.jpeg?fv_content=true&size_mode=5)"
      ]
    },
    {
      "cell_type": "markdown",
      "metadata": {
        "id": "-77urBca9h4b",
        "colab_type": "text"
      },
      "source": [
        "La inteligencia artificial es abordada por los enfoques de aprendizaje de máquina y aprendizaje profundo, basados en los mismos principios, adicional a esto, algunos algoritmos de estas áreas se combinan con otras herramientas de procesamiento de datos para alcanzar los objetivos de automatización. Por ejemplo, en el caso de la visión por computadora, la extracción de características se realiza mediante el procesamiento de imágenes o visión por computadora."
      ]
    },
    {
      "cell_type": "markdown",
      "metadata": {
        "id": "JqPG4-V19h4c",
        "colab_type": "text"
      },
      "source": [
        "![alt text](https://previews.dropbox.com/p/thumb/AAifcj9SXyllAS2DYnNRlEAN79UCG5E4qYMfz2BDn8_p8Lc_RVWMDhRJsKUWCYyOCnXNc5XBLGu5CUKALgdtONdXnzZLqUyR8gBPR__TJvtcahvjhUEu4SX7ciB_jigN9I9DOjOFldeERL-RlL_OIbtPAUMWhMb4qr5gDCMGf3tduWylT5lLA_Ozmde1rOoJarm3xw07xbVu1KgAlBHALIEM44M4dyxUuK56hqTHljIJe_6notqL7yGLvomk2KokrcnmIuUlrSzZ_QqdBzMMn8weAbytW2IF4PjcQiYDdQKvFcdNngAS1lFLx5A69C1AS8RPoHfZmDducg0mNpJhZzPW_kN-t2l-ueTIPwLbkkli9w/p.png?fv_content=true&size_mode=5)"
      ]
    },
    {
      "cell_type": "markdown",
      "metadata": {
        "id": "C6Tle0-z9h4d",
        "colab_type": "text"
      },
      "source": [
        "### ¿Cómo se diseña un algoritmo de ML?"
      ]
    },
    {
      "cell_type": "markdown",
      "metadata": {
        "id": "FfAqpwyF9h4e",
        "colab_type": "text"
      },
      "source": [
        "![alt text](https://previews.dropbox.com/p/thumb/AAjPROQ1si_QV4fcXCC517Fy0EbU9_pcVc_TquAKgM6Cl-NK11z5-e2GyevvLI3UmnkdeWVSeUQdS-E8bKn34LVe-w9-if-c2CM_3OLL80C4jEaLgjtdGvR7wJP2VE8GhTsRPmaSkVLWtmfdSuPGV3AqU8Toz7UcGNtm4YZG5ySWjVeyBezNBok2SfAsxJxcboqFHYSnM-k1A5i2kOg2-hhUDbWtWyE00dAwKNTjJbILyD1a_EXgW6FX-8vHRK_mAYYqzrC7muLlw-FSbFIzydA_VdCgYCVO6cJMCynUeJmvbmiW0Nn4XrA48_FaNeQz0mKvoHvGpbhGvSfBWhk9pkkyeyhCP3MjAeQgkaBYfrqDkg/p.jpeg?fv_content=true&size_mode=5)"
      ]
    },
    {
      "cell_type": "markdown",
      "metadata": {
        "id": "ByQMLoxI9h4f",
        "colab_type": "text"
      },
      "source": [
        "A continuación se aborda los algoritmos de machine learning supervisados."
      ]
    },
    {
      "cell_type": "markdown",
      "metadata": {
        "id": "RfvTmJnB9h4g",
        "colab_type": "text"
      },
      "source": [
        "### 1. Elegimos la forma del modelo\n",
        "\n",
        "Para un número de muestras $i$, tanto de las variables dependientes como de las variables independientes, establecemos el modelo de la siguiente manera:\n",
        "\n",
        "**Entrada**\n",
        "- $x^{(i)}$: variable independiente medida $i$\n",
        "\n",
        "**Salida esperada**\n",
        "- $y^{(i)}$: variable dependiente observada $i$\n",
        "\n",
        "**Predicción ** $\\rightarrow$ decidimos que nuestro modelo tiene la siguiente forma\n",
        "\n",
        "- $\\hat{y}^{(i)} = \\theta_0 + \\theta_1 x^{(i)}$\n",
        "\n",
        "La siguiente es una posible combinación de $\\theta_0$ y $\\theta_1$ seleccionada aleatoriamente.\n",
        "\n",
        "<img src=\"https://previews.dropbox.com/p/thumb/AAh_Ay2qC9gKPMQIIjBN00tvbmj7OSoXWu-yCqZOyejfs51rTSxTRIBH2VIMjZh1bKIuWpBRvjiiEX9FHX49MRaX6ZgwT9bGzem7F1U7n8wU8CRIwjg8R_0vN77kCf9scBTE8XQ3xZLlPJO_G6o6e36kBy11ZmwC3ii5iLAM-ebbfLr3RnIqNGZzpsyY7--TuSN8loZsVP4J9KTwiLBN5moejESXu9e8OYTzHR69smAbwNHh5bqPfzXMkjLbJ4cQfI2cYKZmsKYsSRAyqZGzvo4Bx4Tg5Qrut-QuJQmbiizJpr9_-x0macRNf9tDQFjvIoDHqN-_DGy07Uq5UGSIBSL2sBcI6N1Ii4Z8mIvy15u3uA/p.png?fv_content=true&size_mode=5\" alt=\"Perceptron\" width=\"250\"/>"
      ]
    },
    {
      "cell_type": "markdown",
      "metadata": {
        "id": "BDehnjtf9h4h",
        "colab_type": "text"
      },
      "source": [
        "Para poder entrenar un algoritmo de ML se requieren diferentes muestras con el fin de poder ajustar los valores observados al modelo que se definió anteriormente. En la siguiente gráfica se muestra una representación de diferentes observaciones $x$ con sus respectiva asignación en $y$. \n",
        "\n",
        "<img src=\"https://previews.dropbox.com/p/thumb/AAiJtkCQdgpBkNKDo8R4g-LE00xmRvMEqQ8oUDSc7HvCwOi14ZhYcWclQLZyJsmMbaYw7XHJF0k4HMOaW6nLac_QyrOhWS7oOZUXajs-DIeSJlv4-1-RqoNyLtpDo-4joV3Apl2R6o4qXm3pow32kuUUVtenhaYVy6yBifBCU6mQ0GJJTKzKjVUD6Ltf0bxwsj87fpmZ-tsFuuEUVY6JEoTAN03j0Dm4qqq2X-U2k85eVmV7T79VUrl1EL2q2E6MztfUPESapKeRvGkMV7YjWBYrsnMEpAkfGoD6c_mF2Vpj9AnVNVMSGqAGUhzje9noJfw1Y-LxCtgAqffxy5dqVqqO7IoapjHDfnIIS-92UkofyQ/p.png?fv_content=true&size_mode=5\" alt=\"Perceptron\" width=\"400\"/>"
      ]
    },
    {
      "cell_type": "markdown",
      "metadata": {
        "id": "tLZfcEyJ9h4i",
        "colab_type": "text"
      },
      "source": [
        "El ajuste del modelo se realiza a partir del error como la diferencia al cuadrado entre la variable dependiente $y$ observada y la variable $\\hat{y}$ predicha por el modelo.\n",
        "\n",
        "### 2. Definimos una medida de error\n",
        "\n",
        "Para un dato cualquiera $(i)$ de una muestra de tamaño m.\n",
        "$$\n",
        "\\begin{align}\n",
        "err^{(i)} &= (\\hat{y}^{(i)}-y^{(i)})^2\\\\\n",
        "err^{(i)} &=(\\theta_0 + \\theta_1 x^{(i)} - y^{(i)})^2\n",
        "\\end{align}$$\n",
        "\n",
        "Entonces, el error total para todas las muestras sería:\n",
        "\n",
        "$$J(\\theta_0, \\theta_1) = \\frac{1}{m} \\sum_{i=0}^{m-1}(\\theta_0 + \\theta_1 x^{(i)} - y^{(i)})^2$$\n",
        "\n",
        "Entonces, la solución al modelo de nuestro algoritmo de ML se resuelve encontrando el mínimo de la ecuación de la suma total del error.\n",
        "\n",
        "<span style=\"color:red\">Nota:</span> Existe muchas medidas de error en una red neuronal, esta función se conoce usualmente como función de pérdida, entre las más conocidas está la función de 'Cross entropy'."
      ]
    },
    {
      "cell_type": "markdown",
      "metadata": {
        "id": "5uHkK7zD9h4j",
        "colab_type": "text"
      },
      "source": [
        "# Redes Neuronales Artificiales"
      ]
    },
    {
      "cell_type": "markdown",
      "metadata": {
        "id": "An4fVRq19h4k",
        "colab_type": "text"
      },
      "source": [
        "Las redes neuronales artificiales (ANN) son un tipo de algoritmos bioinspirados capaces de tratar muchos problemas diferentes en el campo del aprendizaje automático. Los ANN intentan emular el comportamiento y las capacidades de aprendizaje de las redes neuronales biológicas, por lo tanto, se construyen siguiendo una estructura basada en la combinación de muchas unidades básicas (neuronas) llamadas ** perceptrones **.\n",
        "\n",
        "#### El perceptrón\n",
        "\n",
        "<img src=\"https://previews.dropbox.com/p/thumb/AAjAryjh4uKN1LpnZeBU415QIe3m9lDPjh_wLNVt3j1h0MrpmMEw-ZEhnQn7CBqgJwN6TsMjaaY7T7TEgPbA--IiKuzeftxQM5C2iOUu6zyNJ3KRA1b5LHwr2SPJ5Owh90yIsO1p2FJ2bf-anKOLCOcqRMr__riwt6a3BRGElUxb-dnbhS4S5ZXYfiyuDvKu7_ufB_KWVd0avCH92AdgYWY1Yr5hyawROgyM6kH3m7BUoA3VTV0fww1sKcHe9oacQyPPPqMIPY4Q3_cb8WaOmtNyllfREOQGOeLn8xOt2vczIJEiVEqyhDNxiUFzgZ_ty3PsQF8mlNAt_3wBK-IkMWI3GZnR6DuQAQqJz48Qpl3ZdA/p.png?fv_content=true&size_mode=5\" alt=\"Perceptron\" width=\"400\"/>\n",
        "\n",
        "La conformación básica de un perceptrón se muestra en la anterior gráfica, donde un perceptrón puede tener multiples variables de entrada las cuales son sumadas y llevadas a una función de activación.\n",
        "\n",
        "<span style=\"color:red\">Nota:</span> Existen muchas funciones de activación que dependen de los criterios del diseñador."
      ]
    },
    {
      "cell_type": "markdown",
      "metadata": {
        "id": "j8RSbB_Q9h4l",
        "colab_type": "text"
      },
      "source": [
        "Cada $w_{i}$ es una constante de peso y es la contribución real asociada a cada una de las variables independientes. \n",
        "\n",
        "<img src=\"https://previews.dropbox.com/p/thumb/AAjXs7kHpyodK_VuneQmBbTMSQAmfs8yynd6PyoHq0FB-EPznbruP6-JaduEn9q05ZnPzQcbOVXg_xZbIlZDLuwbRpT7dpaXOrBMmKOvBHq0XUA5nBrRmxoDPVuZvUBLfnoG03c7o4pjM3NEZAwcLbmHtMmBjZ9bOnRGezQwL7QEc1lCZrcwMyKHtYRYXkziYESPdQ3uw8G5cNTNEBHj-3nAiPLN1oAmApkHHGR_M7WH_BSbn7AfByv3MlvnHUZ-dJzBJAXfBgu5FNqr4ghpqZYQ1XMbS423sMlqN__YYRyL6nN7Wk4IIxr7WdifPnqbk6Xz8ZHqoOeJEz5hiXjgt2gg88TKR3bfz_Gp8TB_SIEyBg/p.png?size=1600x1200&size_mode=3\" alt=\"Perceptron\" width=\"700\"/>\n",
        "\n",
        "### Perceptrón multicapa\n",
        "\n",
        "El perceptrón multicapa es una red neuronal artificial (RNA) formada por múltiples capas, de tal manera que tiene capacidad para resolver problemas que no son linealmente separables, lo cual es la principal limitación del perceptrón (también llamado perceptrón simple)\n",
        "\n",
        "Para el caso del siguiente perceptrón multicapa, tiene muchas constantes de peso que son necesarias determinar en el modelo. En la primera capa cuenta con 4 perceptrones cada uno con 4 entradas de las variables independientes más la constante (o bias), por lo tanto contaría con 20 constantes de peso $w_{i}$. Para las siguientes capas contaría con: 25, 36, 28, 15 y 12 constantes de peso más para las capas  2, 3, 4, 5 y la capa de salida. Es decir, el perceptrón tiene 136 $w_{i}s$"
      ]
    },
    {
      "cell_type": "markdown",
      "metadata": {
        "id": "MWbjCy279h4n",
        "colab_type": "text"
      },
      "source": [
        "<img src=\"https://previews.dropbox.com/p/thumb/AAglvs6rSJhWVlB5xUbepT_kGE85WNnda7IKV7JPsF_4_Bk7e6RZdKdf7T8X77Z_fu9OAg1m8YZ-4iHTyHN1vLC7emqgggRm-LGjWBLhwcqWoMroIqM7QPx6WwbdrtfdHs2DKzzoQTf4RxckXHrGo_decgGf6wZQiuaScp6_rljIaDnU-ZxgurBXvJNJYkZSZEvXKpp3egxrDJhYKHOuEcARvSnJrCg_Gq3yWr9w0Vx4H3zRupfr97xp9HEo-NI14rZXM9p0z1u7QiL24nssNK7yKEyso0QEM0HvACfw1UGuN4pyXm7BgP0rxH9R8iUei0c1D3THqVcW66gX2cf3L56c/p.png?fv_content=true&size_mode=5\" alt=\"Multi-LayerPerceptron\" width=\"400\"/>\n",
        "\n",
        "$$J = J(w_{0}, w_{1}, ... , w_{135})$$"
      ]
    },
    {
      "cell_type": "markdown",
      "metadata": {
        "id": "5qVYTMV69h4p",
        "colab_type": "text"
      },
      "source": [
        "![alt text](https://previews.dropbox.com/p/thumb/AAjkF-YAQHAA_jPXd2ewiu9tmQPhIopXJr_H_Hw9mRp2d7jr8jfkrTJmE1nR13pfC3Et1w0rTBaabQMHBOxi7EjrE0cgoOQKrpjEBv1uogRY3V5KPmNFXaNnUHIZkvn9cVtPTVKOQIRXWv4NuuRlbVc3eaC2xE7JJ5vhbMrEtn_mPS44TmqSXqQm5AeEDOLLxQ57pK3rL3WPOUre9mfpJfzEFD3KzRy-kjkwbuR3pkxk-2riAPbsCAOhhqlhyYjUeQJSBlyyPpt1BREl1G475fp1ko7koCM8SXuuYl5_vU7GO31gvXjsR3GGXOh736Q7NvxP3XUvs2Tl1tfowVcs6_fK/p.png?fv_content=true&size_mode=5)"
      ]
    },
    {
      "cell_type": "markdown",
      "metadata": {
        "id": "-lZsaxAh9h4r",
        "colab_type": "text"
      },
      "source": [
        "Una vez definido el modelo se procede a entrenar el modelo con el fin de encontrar todos los pesos de la arquitectora la cual será utilizada posteriormente para realizar la 'tarea' de manera automática. Clasificación, predicción, busqueda de patrones, etc...\n",
        "\n",
        "Usualmente un algoritmo de ML necesita un datos para entrenar la arquitectura y unos datos de prueba para validar la presición del algoritmo de ML. A continuación se presenta un ejemplo sencillo de un perceptrón multicapa.\n",
        "\n",
        "# Ejemplo de clasificiación"
      ]
    },
    {
      "cell_type": "markdown",
      "metadata": {
        "id": "vSrr1cgn9h4y",
        "colab_type": "text"
      },
      "source": [
        "### Cargar librerias"
      ]
    },
    {
      "cell_type": "code",
      "metadata": {
        "scrolled": true,
        "id": "uDtfRaSD9h40",
        "colab_type": "code",
        "colab": {}
      },
      "source": [
        "import os\n",
        "import gzip\n",
        "import numpy as np\n",
        "import matplotlib.pyplot as plt\n",
        "import warnings; warnings.simplefilter('ignore')"
      ],
      "execution_count": 0,
      "outputs": []
    },
    {
      "cell_type": "markdown",
      "metadata": {
        "id": "2lBc1NMQ9h46",
        "colab_type": "text"
      },
      "source": [
        "### Obtener los datos\n",
        "Los datos para este ejemplo son obtenidos desde las bases de datos existentes en keras. Se definen unas muestras con una cantidad determinada de variables independientes tanto para entrenamiento como para prueba, así también, como sus correspondientes etiquetas (variables dependientes) de los datos de entrenamiento y prueba."
      ]
    },
    {
      "cell_type": "code",
      "metadata": {
        "scrolled": true,
        "id": "072tuJhh9h47",
        "colab_type": "code",
        "outputId": "73eacf65-983a-4256-8ab2-b7f599980595",
        "colab": {
          "base_uri": "https://localhost:8080/",
          "height": 241
        }
      },
      "source": [
        "from keras import datasets\n",
        "\n",
        "#Obtener los datos en variables\n",
        "(x_train, y_train), (x_test, y_test) = datasets.fashion_mnist.load_data()\n",
        "\n",
        "#Cambiar la forma de los datos para entregarlo al MLP\n",
        "X_train = x_train.reshape(x_train.shape[0],x_train.shape[1]*x_train.shape[2])\n",
        "X_test = x_test.reshape(x_test.shape[0],x_test.shape[1]*x_test.shape[2])"
      ],
      "execution_count": 0,
      "outputs": [
        {
          "output_type": "stream",
          "text": [
            "Using TensorFlow backend.\n"
          ],
          "name": "stderr"
        },
        {
          "output_type": "stream",
          "text": [
            "Downloading data from http://fashion-mnist.s3-website.eu-central-1.amazonaws.com/train-labels-idx1-ubyte.gz\n",
            "32768/29515 [=================================] - 0s 3us/step\n",
            "40960/29515 [=========================================] - 0s 2us/step\n",
            "Downloading data from http://fashion-mnist.s3-website.eu-central-1.amazonaws.com/train-images-idx3-ubyte.gz\n",
            "26427392/26421880 [==============================] - 2s 0us/step\n",
            "26435584/26421880 [==============================] - 2s 0us/step\n",
            "Downloading data from http://fashion-mnist.s3-website.eu-central-1.amazonaws.com/t10k-labels-idx1-ubyte.gz\n",
            "16384/5148 [===============================================================================================] - 0s 0us/step\n",
            "Downloading data from http://fashion-mnist.s3-website.eu-central-1.amazonaws.com/t10k-images-idx3-ubyte.gz\n",
            "4423680/4422102 [==============================] - 1s 0us/step\n",
            "4431872/4422102 [==============================] - 1s 0us/step\n"
          ],
          "name": "stdout"
        }
      ]
    },
    {
      "cell_type": "code",
      "metadata": {
        "scrolled": true,
        "id": "mZziX0Sh9h5A",
        "colab_type": "code",
        "outputId": "662e7bd4-9259-4adf-d87e-9d543e484feb",
        "colab": {
          "base_uri": "https://localhost:8080/",
          "height": 119
        }
      },
      "source": [
        "print ('Datos de entrenamiento')\n",
        "print(X_train.shape)\n",
        "print(y_train.shape)\n",
        "print ('Datos de prueba')\n",
        "print(X_test.shape)\n",
        "print(y_test.shape)"
      ],
      "execution_count": 0,
      "outputs": [
        {
          "output_type": "stream",
          "text": [
            "Datos de entrenamiento\n",
            "(60000, 784)\n",
            "(60000,)\n",
            "Datos de prueba\n",
            "(10000, 784)\n",
            "(10000,)\n"
          ],
          "name": "stdout"
        }
      ]
    },
    {
      "cell_type": "markdown",
      "metadata": {
        "id": "KOP9DDGh9h5J",
        "colab_type": "text"
      },
      "source": [
        "La base de datos cuenta con 10 clasificaciones de imágenes diferentes. Camiseta, pantalón, suéter, vestido, abrigo, sandalia, camisa, tenis, bolso, botin con las etiquetas numéricas de 0 a 9 en el mismo orden."
      ]
    },
    {
      "cell_type": "code",
      "metadata": {
        "scrolled": true,
        "id": "2zzxEMto9h5L",
        "colab_type": "code",
        "outputId": "ec37ac71-0586-4ad6-8059-8c83bdc8056a",
        "colab": {
          "base_uri": "https://localhost:8080/",
          "height": 286
        }
      },
      "source": [
        "#Crear un vector rando (Unicamente para elegír una imagen al azar)\n",
        "ind = np.random.permutation(X_train.shape[0])\n",
        "plt.imshow(x_train[ind[0],:,:], cmap='gray');\n",
        "print(y_train[ind[0]])"
      ],
      "execution_count": 0,
      "outputs": [
        {
          "output_type": "stream",
          "text": [
            "6\n"
          ],
          "name": "stdout"
        },
        {
          "output_type": "display_data",
          "data": {
            "image/png": "[encoded data removed]",
            "text/plain": [
              "<Figure size 432x288 with 1 Axes>"
            ]
          },
          "metadata": {
            "tags": []
          }
        }
      ]
    },
    {
      "cell_type": "markdown",
      "metadata": {
        "id": "0kduSNcA9h5Q",
        "colab_type": "text"
      },
      "source": [
        "### Diseño de la arquitectura del MLP\n",
        "1) Definir número de entradas y salidas\n",
        "- Definir la cantidad de variables de entrada\n",
        "- Normalizar los datos\n",
        "- Cambiar las etiquetas a arreglo de 10 (Definir cantidad de variables de salida)"
      ]
    },
    {
      "cell_type": "code",
      "metadata": {
        "scrolled": true,
        "id": "Rlb-30659h5T",
        "colab_type": "code",
        "outputId": "737acb11-52a8-4386-f8d1-8f4e48136c06",
        "colab": {
          "base_uri": "https://localhost:8080/",
          "height": 34
        }
      },
      "source": [
        "from keras.utils import np_utils\n",
        "from sklearn.preprocessing import StandardScaler\n",
        "\n",
        "#Obtener las dimensiones de entrada de la red\n",
        "input_dim = X_train.shape[1]\n",
        "\n",
        "#Normalizar los datos de entrada.\n",
        "scaler = StandardScaler()\n",
        "X_trainN = scaler.fit_transform(X_train)\n",
        "X_testN = scaler.transform(X_test)\n",
        "\n",
        "#Convertir las etiquetas a un arreglo de 10 salidas\n",
        "y_trainOHE = np_utils.to_categorical(y_train)\n",
        "nb_classes = y_trainOHE.shape[1]\n",
        "\n",
        "print(y_trainOHE[ind[0],:])"
      ],
      "execution_count": 0,
      "outputs": [
        {
          "output_type": "stream",
          "text": [
            "[0. 0. 0. 0. 0. 0. 1. 0. 0. 0.]\n"
          ],
          "name": "stdout"
        }
      ]
    },
    {
      "cell_type": "markdown",
      "metadata": {
        "id": "XlFfXRCl9h5Y",
        "colab_type": "text"
      },
      "source": [
        "2) Diseñar arquitectura interna\n",
        "- Capa de entrada 784\n",
        "- Primera capa oculta 64\n",
        "- Segunda capa oculta 32\n",
        "- Capa de salida 10\n",
        "\n",
        "Las capas ocultas tienen función de activación 'tanh' y la capa de salida tiene una función de activación 'softmax'. Para la capa de salida se selecciona la función 'softmax' debido a que la salida de esta están entre valores de 0 a 1, como una función  de probabilidad."
      ]
    },
    {
      "cell_type": "code",
      "metadata": {
        "scrolled": true,
        "id": "Q4YPekg-9h5Z",
        "colab_type": "code",
        "outputId": "af5ac2c8-90f9-4841-b33f-35d61cf31e8b",
        "colab": {
          "base_uri": "https://localhost:8080/",
          "height": 156
        }
      },
      "source": [
        "from keras.models import Sequential\n",
        "from keras.layers import Dense, Activation\n",
        "\n",
        "# Diseñar la arquitectura del MLP\n",
        "model = Sequential()\n",
        "model.add(Dense(64, input_dim=input_dim))\n",
        "model.add(Activation('tanh'))\n",
        "model.add(Dense(32))\n",
        "model.add(Activation('tanh'))\n",
        "model.add(Dense(nb_classes, activation='softmax'))"
      ],
      "execution_count": 0,
      "outputs": [
        {
          "output_type": "stream",
          "text": [
            "WARNING: Logging before flag parsing goes to stderr.\n",
            "W0813 21:46:15.426444 140451333207936 deprecation_wrapper.py:119] From /usr/local/lib/python2.7/dist-packages/keras/backend/tensorflow_backend.py:74: The name tf.get_default_graph is deprecated. Please use tf.compat.v1.get_default_graph instead.\n",
            "\n",
            "W0813 21:46:15.723999 140451333207936 deprecation_wrapper.py:119] From /usr/local/lib/python2.7/dist-packages/keras/backend/tensorflow_backend.py:517: The name tf.placeholder is deprecated. Please use tf.compat.v1.placeholder instead.\n",
            "\n",
            "W0813 21:46:15.732109 140451333207936 deprecation_wrapper.py:119] From /usr/local/lib/python2.7/dist-packages/keras/backend/tensorflow_backend.py:4138: The name tf.random_uniform is deprecated. Please use tf.random.uniform instead.\n",
            "\n"
          ],
          "name": "stderr"
        }
      ]
    },
    {
      "cell_type": "code",
      "metadata": {
        "scrolled": true,
        "id": "XrXz8nva9h5e",
        "colab_type": "code",
        "outputId": "0f40b16f-4cf1-4c27-9295-eefa6068fe58",
        "colab": {
          "base_uri": "https://localhost:8080/",
          "height": 34
        }
      },
      "source": [
        "Num=((784+1)*64)+((64+1)*32)+((32+1)*10)\n",
        "print ('Numero de pesos en la red ', Num)"
      ],
      "execution_count": 0,
      "outputs": [
        {
          "output_type": "stream",
          "text": [
            "('Numero de pesos en la red ', 52650)\n"
          ],
          "name": "stdout"
        }
      ]
    },
    {
      "cell_type": "code",
      "metadata": {
        "scrolled": true,
        "id": "8YqQhhES9h5j",
        "colab_type": "code",
        "outputId": "ddd6b006-0054-4173-9535-144f20fa8937",
        "colab": {
          "base_uri": "https://localhost:8080/",
          "height": 306
        }
      },
      "source": [
        "model.summary()"
      ],
      "execution_count": 0,
      "outputs": [
        {
          "output_type": "stream",
          "text": [
            "_________________________________________________________________\n",
            "Layer (type)                 Output Shape              Param #   \n",
            "=================================================================\n",
            "dense_1 (Dense)              (None, 64)                50240     \n",
            "_________________________________________________________________\n",
            "activation_1 (Activation)    (None, 64)                0         \n",
            "_________________________________________________________________\n",
            "dense_2 (Dense)              (None, 32)                2080      \n",
            "_________________________________________________________________\n",
            "activation_2 (Activation)    (None, 32)                0         \n",
            "_________________________________________________________________\n",
            "dense_3 (Dense)              (None, 10)                330       \n",
            "=================================================================\n",
            "Total params: 52,650\n",
            "Trainable params: 52,650\n",
            "Non-trainable params: 0\n",
            "_________________________________________________________________\n"
          ],
          "name": "stdout"
        }
      ]
    },
    {
      "cell_type": "code",
      "metadata": {
        "scrolled": true,
        "id": "puL1CcBu9h5n",
        "colab_type": "code",
        "outputId": "c569bd9a-d143-403f-e887-3be271e8d80b",
        "colab": {
          "base_uri": "https://localhost:8080/",
          "height": 105
        }
      },
      "source": [
        "# Definir la función de pérdida\n",
        "model.compile(loss='categorical_crossentropy', optimizer='sgd')\n",
        "\n",
        "from keras import optimizers\n",
        "# Definir los parámetros de optimización\n",
        "sgd = optimizers.SGD(lr=0.01, decay=1e-6, momentum=0.9, nesterov=True)\n",
        "model.compile(loss='categorical_crossentropy', optimizer=sgd)"
      ],
      "execution_count": 0,
      "outputs": [
        {
          "output_type": "stream",
          "text": [
            "W0813 21:46:15.834460 140451333207936 deprecation_wrapper.py:119] From /usr/local/lib/python2.7/dist-packages/keras/optimizers.py:790: The name tf.train.Optimizer is deprecated. Please use tf.compat.v1.train.Optimizer instead.\n",
            "\n",
            "W0813 21:46:15.869484 140451333207936 deprecation_wrapper.py:119] From /usr/local/lib/python2.7/dist-packages/keras/backend/tensorflow_backend.py:3295: The name tf.log is deprecated. Please use tf.math.log instead.\n",
            "\n"
          ],
          "name": "stderr"
        }
      ]
    },
    {
      "cell_type": "markdown",
      "metadata": {
        "id": "VZdC1cWV9h5r",
        "colab_type": "text"
      },
      "source": [
        "3) Entrenar el modelo\n",
        "- Entrenar el modelo\n",
        "- Generar una predicción para confirmar si el entrenamiento es el adecuado\n",
        "- Entrenamiento con un único lote de datos (batch)."
      ]
    },
    {
      "cell_type": "code",
      "metadata": {
        "scrolled": true,
        "id": "9Zvyw1P59h5s",
        "colab_type": "code",
        "outputId": "32d6851e-e1be-437e-c241-1a005fe8c5dd",
        "colab": {
          "base_uri": "https://localhost:8080/",
          "height": 190
        }
      },
      "source": [
        "print(\"Entrenando...\")\n",
        "model.train_on_batch(X_trainN, y_trainOHE)\n",
        "\n",
        "print(\"Generando predicción...\")\n",
        "preds = model.predict(X_testN[0,:].reshape(1,input_dim), verbose=0)\n",
        "print (preds)"
      ],
      "execution_count": 0,
      "outputs": [
        {
          "output_type": "stream",
          "text": [
            "Entrenando...\n"
          ],
          "name": "stdout"
        },
        {
          "output_type": "stream",
          "text": [
            "W0813 21:46:16.056555 140451333207936 deprecation.py:323] From /usr/local/lib/python2.7/dist-packages/tensorflow/python/ops/math_grad.py:1250: where (from tensorflow.python.ops.array_ops) is deprecated and will be removed in a future version.\n",
            "Instructions for updating:\n",
            "Use tf.where in 2.0, which has the same broadcast rule as np.where\n",
            "W0813 21:46:16.114075 140451333207936 deprecation_wrapper.py:119] From /usr/local/lib/python2.7/dist-packages/keras/backend/tensorflow_backend.py:986: The name tf.assign_add is deprecated. Please use tf.compat.v1.assign_add instead.\n",
            "\n"
          ],
          "name": "stderr"
        },
        {
          "output_type": "stream",
          "text": [
            "Generando predicción...\n",
            "[[0.16624598 0.03463767 0.07392476 0.04689628 0.20054014 0.10019458\n",
            "  0.06763747 0.06327906 0.03053354 0.21611059]]\n"
          ],
          "name": "stdout"
        }
      ]
    },
    {
      "cell_type": "code",
      "metadata": {
        "scrolled": false,
        "id": "zx3gUpEI9h5v",
        "colab_type": "code",
        "outputId": "2c5547f2-05c6-4a75-d151-f72d0350b05f",
        "colab": {
          "base_uri": "https://localhost:8080/",
          "height": 329
        }
      },
      "source": [
        "print('Clase real')\n",
        "print(y_test[0])\n",
        "\n",
        "objects = ('Botin', 'Bolso', 'Tenis', 'Camisa', 'Sandalia', 'Abrigo', 'Vestido', 'Sueter', 'Pantalon', 'Camiseta')\n",
        "\n",
        "y_pos = np.arange(nb_classes)\n",
        "performance = preds.flatten()\n",
        "plt.subplot(121)\n",
        "plt.imshow(X_test[0,:].reshape(28,28), cmap='gray');\n",
        "plt.subplot(122) \n",
        "plt.barh(y_pos[::-1], performance, align='center', alpha=0.5)\n",
        "plt.yticks(y_pos, objects)\n",
        "plt.xlabel('Probability')\n",
        "plt.title('Network outputs')\n",
        "plt.subplots_adjust(wspace = 1)\n",
        "plt.show()"
      ],
      "execution_count": 0,
      "outputs": [
        {
          "output_type": "stream",
          "text": [
            "Clase real\n",
            "9\n"
          ],
          "name": "stdout"
        },
        {
          "output_type": "display_data",
          "data": {
            "image/png": "[encoded data removed]",
            "text/plain": [
              "<Figure size 432x288 with 2 Axes>"
            ]
          },
          "metadata": {
            "tags": []
          }
        }
      ]
    },
    {
      "cell_type": "markdown",
      "metadata": {
        "id": "O4xApFBX9h5z",
        "colab_type": "text"
      },
      "source": [
        "Se vuelve a entrenar con más epocas, lotes de datos mas grandes."
      ]
    },
    {
      "cell_type": "code",
      "metadata": {
        "scrolled": true,
        "id": "1AOjnPzX9h50",
        "colab_type": "code",
        "outputId": "abe34fdc-56d8-4599-a3cc-2d6ce2dfb7f4",
        "colab": {
          "base_uri": "https://localhost:8080/",
          "height": 408
        }
      },
      "source": [
        "print(\"Entrenando...\")\n",
        "model.fit(X_trainN, y_trainOHE, epochs=10, batch_size=16, validation_split=0.1, verbose=2)"
      ],
      "execution_count": 0,
      "outputs": [
        {
          "output_type": "stream",
          "text": [
            "Entrenando...\n",
            "Train on 54000 samples, validate on 6000 samples\n",
            "Epoch 1/10\n",
            " - 4s - loss: 0.4597 - val_loss: 0.4004\n",
            "Epoch 2/10\n",
            " - 4s - loss: 0.3662 - val_loss: 0.4041\n",
            "Epoch 3/10\n",
            " - 5s - loss: 0.3370 - val_loss: 0.3710\n",
            "Epoch 4/10\n",
            " - 4s - loss: 0.3174 - val_loss: 0.3674\n",
            "Epoch 5/10\n",
            " - 4s - loss: 0.3024 - val_loss: 0.3542\n",
            "Epoch 6/10\n",
            " - 4s - loss: 0.2874 - val_loss: 0.3686\n",
            "Epoch 7/10\n",
            " - 4s - loss: 0.2730 - val_loss: 0.3655\n",
            "Epoch 8/10\n",
            " - 4s - loss: 0.2663 - val_loss: 0.3598\n",
            "Epoch 9/10\n",
            " - 4s - loss: 0.2544 - val_loss: 0.3809\n",
            "Epoch 10/10\n",
            " - 4s - loss: 0.2504 - val_loss: 0.3505\n"
          ],
          "name": "stdout"
        },
        {
          "output_type": "execute_result",
          "data": {
            "text/plain": [
              "<keras.callbacks.History at 0x7fbd20ef5890>"
            ]
          },
          "metadata": {
            "tags": []
          },
          "execution_count": 12
        }
      ]
    },
    {
      "cell_type": "code",
      "metadata": {
        "id": "Dz-LgXIc9h56",
        "colab_type": "code",
        "outputId": "3b9e4549-4191-4a9c-ba0a-57e84682acac",
        "colab": {
          "base_uri": "https://localhost:8080/",
          "height": 68
        }
      },
      "source": [
        "print(\"Generar predicción...\")\n",
        "preds = model.predict(X_testN[0,:].reshape(1,input_dim), verbose=0)\n",
        "print (preds)"
      ],
      "execution_count": 0,
      "outputs": [
        {
          "output_type": "stream",
          "text": [
            "Generar predicción...\n",
            "[[2.8197465e-07 1.4521243e-06 2.5280397e-06 3.2325377e-07 3.1930058e-06\n",
            "  6.4457691e-04 4.4691224e-06 5.8279955e-03 1.0854832e-06 9.9351406e-01]]\n"
          ],
          "name": "stdout"
        }
      ]
    },
    {
      "cell_type": "code",
      "metadata": {
        "scrolled": true,
        "id": "0jiUoA549h6B",
        "colab_type": "code",
        "outputId": "d4e69fdf-bcea-493d-c727-5af7d4631959",
        "colab": {
          "base_uri": "https://localhost:8080/",
          "height": 295
        }
      },
      "source": [
        "performance = preds.flatten()\n",
        "plt.subplot(121)\n",
        "plt.imshow(X_test[0,:].reshape(28,28), cmap='gray');\n",
        "plt.subplot(122) \n",
        "plt.barh(y_pos[::-1], performance, align='center', alpha=0.5)\n",
        "plt.yticks(y_pos, objects)\n",
        "plt.xlabel('Probability')\n",
        "plt.title('Network outputs')\n",
        "plt.subplots_adjust(wspace = 1)\n",
        "plt.show()"
      ],
      "execution_count": 0,
      "outputs": [
        {
          "output_type": "display_data",
          "data": {
            "image/png": "[encoded data removed]",
            "text/plain": [
              "<Figure size 432x288 with 2 Axes>"
            ]
          },
          "metadata": {
            "tags": []
          }
        }
      ]
    },
    {
      "cell_type": "markdown",
      "metadata": {
        "id": "BnHdme5N9h6E",
        "colab_type": "text"
      },
      "source": [
        "### Obtener medida de precisión\n",
        "Se comparan las etiquedas de los datos de prueba con lo predicho por el algoritmo para el mismo grupo de datos."
      ]
    },
    {
      "cell_type": "code",
      "metadata": {
        "scrolled": true,
        "id": "h3oi3JbJ9h6F",
        "colab_type": "code",
        "outputId": "70ff6dff-5010-4fa6-d34b-16dbbeecebc5",
        "colab": {
          "base_uri": "https://localhost:8080/",
          "height": 34
        }
      },
      "source": [
        "preds = model.predict_classes(X_testN, verbose=0)\n",
        "Accuracy = np.mean(preds == y_test)\n",
        "print('Precision = ', Accuracy*100, '%')"
      ],
      "execution_count": 0,
      "outputs": [
        {
          "output_type": "stream",
          "text": [
            "('Precision = ', 86.77, '%')\n"
          ],
          "name": "stdout"
        }
      ]
    },
    {
      "cell_type": "markdown",
      "metadata": {
        "id": "WtD_r3yd9h6I",
        "colab_type": "text"
      },
      "source": [
        "### Generar matriz de confusión"
      ]
    },
    {
      "cell_type": "code",
      "metadata": {
        "scrolled": true,
        "id": "B3k9RlhM9h6K",
        "colab_type": "code",
        "outputId": "d2ee9de3-29bd-473d-976e-8d804a48af75",
        "colab": {
          "base_uri": "https://localhost:8080/",
          "height": 499
        }
      },
      "source": [
        "from sklearn.metrics import confusion_matrix\n",
        "from __future__ import division\n",
        "\n",
        "cm = confusion_matrix(y_test, preds)\n",
        "cm = cm/np.sum(cm)\n",
        "cmap = plt.cm.Blues\n",
        "tick_marks = np.arange(nb_classes)\n",
        "plt.imshow(cm, interpolation='nearest', cmap=cmap)\n",
        "plt.title('Matriz de confusion')\n",
        "plt.colorbar()\n",
        "plt.xticks(tick_marks, objects, rotation=45)\n",
        "plt.yticks(tick_marks, objects)"
      ],
      "execution_count": 0,
      "outputs": [
        {
          "output_type": "execute_result",
          "data": {
            "text/plain": [
              "([<matplotlib.axis.YTick at 0x7fbd1b4cdd90>,\n",
              "  <matplotlib.axis.YTick at 0x7fbd1b4cd850>,\n",
              "  <matplotlib.axis.YTick at 0x7fbd20454d10>,\n",
              "  <matplotlib.axis.YTick at 0x7fbd1adfad90>,\n",
              "  <matplotlib.axis.YTick at 0x7fbd1adfa4d0>,\n",
              "  <matplotlib.axis.YTick at 0x7fbd1ade6f90>,\n",
              "  <matplotlib.axis.YTick at 0x7fbd1ae05190>,\n",
              "  <matplotlib.axis.YTick at 0x7fbd1ae056d0>,\n",
              "  <matplotlib.axis.YTick at 0x7fbd1ae05c10>,\n",
              "  <matplotlib.axis.YTick at 0x7fbd1ad90190>],\n",
              " <a list of 10 Text yticklabel objects>)"
            ]
          },
          "metadata": {
            "tags": []
          },
          "execution_count": 16
        },
        {
          "output_type": "display_data",
          "data": {
            "image/png": "[encoded data removed]",
            "text/plain": [
              "<Figure size 432x288 with 2 Axes>"
            ]
          },
          "metadata": {
            "tags": []
          }
        }
      ]
    }
  ]
}